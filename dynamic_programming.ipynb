{
 "cells": [
  {
   "cell_type": "markdown",
   "metadata": {
    "slideshow": {
     "slide_type": "slide"
    }
   },
   "source": [
    "# 動的計画法\n",
    "\n",
    "## 初めに\n",
    "\n",
    "- 関数の最大、最小値\n",
    "  - 一般には全組合せの調査必要\n",
    "- 関数が2変数の和の場合\n",
    "  - 最適解の効率的な解法 ＝ 動的計画法"
   ]
  },
  {
   "cell_type": "markdown",
   "metadata": {},
   "source": []
  },
  {
   "cell_type": "code",
   "execution_count": 2,
   "metadata": {
    "slideshow": {
     "slide_type": "slide"
    }
   },
   "outputs": [],
   "source": [
    "import numpy as np\n",
    "def Frog1(footholds):\n",
    "    one_diffs = [abs(f0 - f1) for f0, f1 in zip(footholds, footholds[1:])]\n",
    "    two_diffs = [abs(f0 - f2) for f0, f2 in zip(footholds, footholds[2:])]\n",
    "    indexes = [[0]]\n",
    "    scores = np.zeros((1,))\n",
    "    indexes.append(indexes[-1] + [len(scores)])\n",
    "    scores = np.append(scores, one_diffs.pop(0))\n",
    "    for diff in zip(two_diffs, one_diffs):\n",
    "        score = np.array([scores[-2] + diff[-2], scores[-1] + diff[-1]])\n",
    "        i = np.argmin(score) - 2\n",
    "        indexes.append(indexes[i] + [len(scores)])\n",
    "        scores = np.append(scores, score[i])\n",
    "    return indexes[-1]"
   ]
  },
  {
   "cell_type": "code",
   "execution_count": 13,
   "metadata": {},
   "outputs": [
    {
     "data": {
      "text/plain": [
       "[0, 2, 3, 5]"
      ]
     },
     "execution_count": 13,
     "metadata": {},
     "output_type": "execute_result"
    }
   ],
   "source": [
    "footholds = [2, 9, 4, 5, 1, 6]\n",
    "Frog1(footholds)"
   ]
  },
  {
   "cell_type": "code",
   "execution_count": null,
   "metadata": {},
   "outputs": [],
   "source": []
  }
 ],
 "metadata": {
  "kernelspec": {
   "display_name": "Python 3",
   "language": "python",
   "name": "python3"
  },
  "language_info": {
   "codemirror_mode": {
    "name": "ipython",
    "version": 3
   },
   "file_extension": ".py",
   "mimetype": "text/x-python",
   "name": "python",
   "nbconvert_exporter": "python",
   "pygments_lexer": "ipython3",
   "version": "3.11.4"
  }
 },
 "nbformat": 4,
 "nbformat_minor": 2
}
