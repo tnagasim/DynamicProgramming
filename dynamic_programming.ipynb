{
 "cells": [
  {
   "cell_type": "markdown",
   "metadata": {
    "slideshow": {
     "slide_type": "slide"
    }
   },
   "source": [
    "# 動的計画法\n",
    "\n",
    "## 導入\n",
    "\n",
    "- 動的計画法とは\n",
    "  - 最適化計算手法の一種\n",
    "- 最適化計算とは\n",
    "  - 関数の最大値or最小値を求める計算\n",
    "  - 一般には全組合せの調査必要\n",
    "- 関数が対ごとの2変数関数の和の場合\n",
    "  - 最適解の効率的な解法 ＝ 動的計画法"
   ]
  },
  {
   "cell_type": "markdown",
   "metadata": {},
   "source": [
    "\\begin{equation}\n",
    "J  = f_1(x_1) + h_1(x_1, x_2) + h_2(x_2, x_3) + \\cdots + h_{n-1}(x_{n-1}, x_n) \\rightarrow \\max\n",
    "\\end{equation}\n",
    "\n",
    "- $x_1$に着目\n",
    "- 第1項、第2項のみ\n",
    "- 可能な全ての$x_2$に対し最適な$x_1$を計算\n",
    "- 第1項、第2項は次式に書ける\n",
    "\n",
    "\\begin{equation}\n",
    "f_2(x_2)  = \\max_{x_1}[f_1(x_1) + h_1(x_1, x_2)]\n",
    "\\end{equation}\n",
    "\n",
    "- 元の式を$f_2$を使って表現\n",
    "\n",
    "\\begin{equation}\n",
    "J  = f_2(x_2) + h_2(x_2, x_3) + \\cdots + h_{n-1}(x_{n-1}, x_n) \\rightarrow \\max\n",
    "\\end{equation}\n",
    "\n",
    "- $x_2$, $x_3$と繰り返す\n",
    "- $x_n$まで計算すると最適な$\\{x_1, x_2, ..., x_n\\}$が得られる"
   ]
  },
  {
   "cell_type": "markdown",
   "metadata": {},
   "source": [
    "## カエル跳び問題\n",
    "\n",
    "### 問題\n",
    "\n",
    "$N$個の足場があって、$i$番目の足場の高さは$h_i$です。\n",
    "最初、足場1にカエルがいて、ぴょんぴょん跳ねながら足場$N$へと向かいます。カエルは足場$i$にいるときに\n",
    "\n",
    "- 足場$i$から足場$i+1$へと移動する (そのコストは$|h_i-h_{i+1}$)\n",
    "- 足場$i$から足場$i+2$へと移動する (そのコストは$|h_i-h_{i+2}$)\n",
    "\n",
    "のいずれかの行動を選べます。カエルが足場1から足場$N$へと移動するのに必要な最小コストを求めよ。"
   ]
  },
  {
   "cell_type": "code",
   "execution_count": 2,
   "metadata": {
    "slideshow": {
     "slide_type": "slide"
    }
   },
   "outputs": [],
   "source": [
    "import numpy as np\n",
    "def Frog1(footholds):\n",
    "    one_diffs = [abs(f0 - f1) for f0, f1 in zip(footholds, footholds[1:])]\n",
    "    two_diffs = [abs(f0 - f2) for f0, f2 in zip(footholds, footholds[2:])]\n",
    "    indexes = [[0]]\n",
    "    scores = np.zeros((1,))\n",
    "    indexes.append(indexes[-1] + [len(scores)])\n",
    "    scores = np.append(scores, one_diffs.pop(0))\n",
    "    for diff in zip(two_diffs, one_diffs):\n",
    "        score = np.array([scores[-2] + diff[-2], scores[-1] + diff[-1]])\n",
    "        i = np.argmin(score) - 2\n",
    "        indexes.append(indexes[i] + [len(scores)])\n",
    "        scores = np.append(scores, score[i])\n",
    "    return indexes[-1]"
   ]
  },
  {
   "cell_type": "code",
   "execution_count": 13,
   "metadata": {},
   "outputs": [
    {
     "data": {
      "text/plain": [
       "[0, 2, 3, 5]"
      ]
     },
     "execution_count": 13,
     "metadata": {},
     "output_type": "execute_result"
    }
   ],
   "source": [
    "footholds = [2, 9, 4, 5, 1, 6]\n",
    "Frog1(footholds)"
   ]
  },
  {
   "cell_type": "code",
   "execution_count": null,
   "metadata": {},
   "outputs": [],
   "source": []
  }
 ],
 "metadata": {
  "kernelspec": {
   "display_name": "Python 3",
   "language": "python",
   "name": "python3"
  },
  "language_info": {
   "codemirror_mode": {
    "name": "ipython",
    "version": 3
   },
   "file_extension": ".py",
   "mimetype": "text/x-python",
   "name": "python",
   "nbconvert_exporter": "python",
   "pygments_lexer": "ipython3",
   "version": "3.11.4"
  }
 },
 "nbformat": 4,
 "nbformat_minor": 2
}
