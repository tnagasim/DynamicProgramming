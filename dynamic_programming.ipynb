{
 "cells": [
  {
   "cell_type": "code",
   "execution_count": 54,
   "metadata": {},
   "outputs": [],
   "source": [
    "def Frog1(footholds):\n",
    "    by_one_step = [abs(f0 - f1) for f0, f1 in zip(footholds, footholds[1:])]\n",
    "    by_two_step = [abs(f0 - f2) for f0, f2 in zip(footholds, footholds[2:])]\n",
    "    dp_1 = 0\n",
    "    dp_2 = dp_1\n",
    "    dp_1 = dp_1 + by_one_step.pop(0)\n",
    "    ret = [[0], [0, 1]]\n",
    "    i = 2\n",
    "    for (one, two) in zip(by_one_step, by_two_step):\n",
    "        temp = dp_1\n",
    "        if dp_1 + one < dp_2 + two:\n",
    "            dp_1 = dp_1 + one\n",
    "            ret.append(ret[-1] + [i])\n",
    "            print(1)\n",
    "        else:\n",
    "            dp_1 = dp_2 + two\n",
    "            ret.append(ret[-2] + [i])\n",
    "            print(2)\n",
    "        print(ret)\n",
    "        dp_2 = temp\n",
    "        i = i + 1\n",
    "    return ret[-1]"
   ]
  },
  {
   "cell_type": "code",
   "execution_count": 55,
   "metadata": {},
   "outputs": [
    {
     "name": "stdout",
     "output_type": "stream",
     "text": [
      "2\n",
      "[[0], [0, 1], [0, 2]]\n",
      "1\n",
      "[[0], [0, 1], [0, 2], [0, 2, 3]]\n",
      "2\n",
      "[[0], [0, 1], [0, 2], [0, 2, 3], [0, 2, 4]]\n",
      "2\n",
      "[[0], [0, 1], [0, 2], [0, 2, 3], [0, 2, 4], [0, 2, 3, 5]]\n"
     ]
    },
    {
     "data": {
      "text/plain": [
       "[0, 2, 3, 5]"
      ]
     },
     "execution_count": 55,
     "metadata": {},
     "output_type": "execute_result"
    }
   ],
   "source": [
    "footholds = [2, 9, 4, 5, 1, 6]\n",
    "Frog1(footholds)"
   ]
  },
  {
   "cell_type": "code",
   "execution_count": null,
   "metadata": {},
   "outputs": [],
   "source": []
  }
 ],
 "metadata": {
  "kernelspec": {
   "display_name": "Python 3",
   "language": "python",
   "name": "python3"
  },
  "language_info": {
   "codemirror_mode": {
    "name": "ipython",
    "version": 3
   },
   "file_extension": ".py",
   "mimetype": "text/x-python",
   "name": "python",
   "nbconvert_exporter": "python",
   "pygments_lexer": "ipython3",
   "version": "3.11.4"
  }
 },
 "nbformat": 4,
 "nbformat_minor": 2
}
