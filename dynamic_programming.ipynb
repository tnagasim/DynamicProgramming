{
 "cells": [
  {
   "cell_type": "markdown",
   "metadata": {
    "slideshow": {
     "slide_type": "slide"
    }
   },
   "source": [
    "# 動的計画法\n",
    "\n",
    "## 導入\n",
    "\n",
    "- 動的計画法とは\n",
    "  - 最適化計算手法の一種\n",
    "- 最適化計算とは\n",
    "  - 関数の最大値or最小値を求める計算\n",
    "  - 一般には全組合せの調査必要\n",
    "- 関数が対ごとの2変数関数の和の場合\n",
    "  - 最適解の効率的な解法 ＝ 動的計画法"
   ]
  },
  {
   "cell_type": "markdown",
   "metadata": {},
   "source": [
    "## 方法\n",
    "\n",
    "\\begin{equation*}\n",
    "J  = f_1(x_1) + h_1(x_1, x_2) + h_2(x_2, x_3) + \\cdots + h_{n-1}(x_{n-1}, x_n) \\rightarrow \\max\n",
    "\\end{equation*}\n",
    "\n",
    "- $x_1$に着目\n",
    "  - 第1項、第2項のみ\n",
    "- 可能な全ての$x_2$に対し最適な$x_1$を計算\n",
    "- 第1項、第2項は次式に書ける\n",
    "\n",
    "\\begin{equation*}\n",
    "f_2(x_2)  = \\max_{x_1}[f_1(x_1) + h_1(x_1, x_2)]\n",
    "\\end{equation*}\n",
    "\n",
    "- 元の式を$f_2$を使って表現\n",
    "\n",
    "\\begin{equation*}\n",
    "J  = f_2(x_2) + h_2(x_2, x_3) + \\cdots + h_{n-1}(x_{n-1}, x_n) \\rightarrow \\max\n",
    "\\end{equation*}\n",
    "\n",
    "- $x_2$, $x_3$と繰り返す\n",
    "- $x_n$まで計算すると最適な$\\{x_1, x_2, ..., x_n\\}$が得られる"
   ]
  },
  {
   "cell_type": "markdown",
   "metadata": {},
   "source": [
    "## カエル跳び問題\n",
    "\n",
    "### 問題\n",
    "\n",
    "$N$個の足場があって、$i$番目の足場の高さは$h_i$です。\n",
    "最初、足場1にカエルがいて、ぴょんぴょん跳ねながら足場$N$へと向かいます。カエルは足場$i$にいるときに\n",
    "\n",
    "- 足場$i$から足場$i+1$へと移動する (そのコストは$|h_i-h_{i+1}$)\n",
    "- 足場$i$から足場$i+2$へと移動する (そのコストは$|h_i-h_{i+2}$)\n",
    "\n",
    "のいずれかの行動を選べます。カエルが足場1から足場$N$へと移動するのに必要な最小コストを求めよ。\n",
    "\n",
    "<img width=\"500\" src=\"https://qiita-user-contents.imgix.net/https%3A%2F%2Fqiita-image-store.s3.amazonaws.com%2F0%2F182963%2Fc010da1b-e2d0-3121-9050-5d306dfe3c41.jpeg?ixlib=rb-4.0.0&auto=format&gif-q=60&q=75&w=1400&fit=max&s=1c8e3db3816ce58e329c8f08fbeb5a79\">"
   ]
  },
  {
   "cell_type": "code",
   "execution_count": 2,
   "metadata": {
    "slideshow": {
     "slide_type": "slide"
    }
   },
   "outputs": [],
   "source": [
    "import numpy as np\n",
    "def Frog1(footholds):\n",
    "    one_diffs = [abs(f0 - f1) for f0, f1 in zip(footholds, footholds[1:])]\n",
    "    two_diffs = [abs(f0 - f2) for f0, f2 in zip(footholds, footholds[2:])]\n",
    "    indexes = [[0]]\n",
    "    scores = np.zeros((1,))\n",
    "    indexes.append(indexes[-1] + [len(scores)])\n",
    "    scores = np.append(scores, one_diffs.pop(0))\n",
    "    for diff in zip(two_diffs, one_diffs):\n",
    "        score = np.array([scores[-2] + diff[-2], scores[-1] + diff[-1]])\n",
    "        i = np.argmin(score) - 2\n",
    "        indexes.append(indexes[i] + [len(scores)])\n",
    "        scores = np.append(scores, score[i])\n",
    "    return indexes[-1]"
   ]
  },
  {
   "cell_type": "code",
   "execution_count": 13,
   "metadata": {},
   "outputs": [
    {
     "data": {
      "text/plain": [
       "[0, 2, 3, 5]"
      ]
     },
     "execution_count": 13,
     "metadata": {},
     "output_type": "execute_result"
    }
   ],
   "source": [
    "footholds = [2, 9, 4, 5, 1, 6]\n",
    "Frog1(footholds)"
   ]
  },
  {
   "cell_type": "markdown",
   "metadata": {},
   "source": [
    "## ナップサック問題\n",
    "https://qiita.com/drken/items/a5e6fe22863b7992efdb\n",
    "\n",
    "- $n$個の荷物\n",
    "- 荷物$i$の重さ$w_i$, 価値$v_i$\n",
    "- 重さの合計がUを越えない様に荷物を選択\n",
    "- 価値の合計の最大値を求めよ"
   ]
  },
  {
   "cell_type": "code",
   "execution_count": 58,
   "metadata": {},
   "outputs": [],
   "source": [
    "import numpy as np\n",
    "def knapsack(weights, values, max_weight):\n",
    "    num_things = len(weights)\n",
    "    dp = np.zeros((num_things + 1, max_weight + 1))\n",
    "    indexes = dict()\n",
    "    #\n",
    "    for i, (weight, value) in enumerate(zip(weights, values)):\n",
    "        for u in range(max_weight + 1):\n",
    "            if u >= weight:\n",
    "                if dp[i, u - weight] + value > dp[i, u]:\n",
    "                    dp[i + 1, u] = dp[i, u - weight] + value\n",
    "                    indexes[(i + 1, u)] = indexes.get((i, u - weight), []) + [i]\n",
    "                    continue\n",
    "            dp[i + 1, u] = dp[i, u]\n",
    "    return dp[num_things, max_weight], indexes[(num_things, max_weight)]"
   ]
  },
  {
   "cell_type": "code",
   "execution_count": 59,
   "metadata": {},
   "outputs": [
    {
     "data": {
      "text/plain": [
       "(94.0, [4, 5])"
      ]
     },
     "execution_count": 59,
     "metadata": {},
     "output_type": "execute_result"
    }
   ],
   "source": [
    "weights = [2, 1, 3, 2, 1, 5]\n",
    "values = [3, 2, 6, 1, 3, 85]\n",
    "max_weight = 9\n",
    "knapsack(weights, values, max_weight)"
   ]
  },
  {
   "cell_type": "markdown",
   "metadata": {},
   "source": [
    "## 部分和問題\n",
    "$n$個の正の整数$a[0], $a[1], ..., a[n-1]$と正の整数$A$が与えられる。\n",
    "これらの整数から何個かの整数を選んで総和が$A$になるようにすることが可能か判定せよ。\n",
    "可能ならば \"YES\" と出力し、不可能ならば \"NO\" と出力せよ。\n",
    "\n",
    "【制約】\n",
    "- $1\\le n\\le 100$\n",
    "- $1\\le a[i]\\le 1000$\n",
    "- $1\\le A\\le 10000$\n",
    "\n",
    "【数値例】\n",
    "\n",
    "1. \n",
    "   - $n=3$\n",
    "   - $a=(7, 5, 3)$\n",
    "   - $A=10$\n",
    "   - 答え: YES (7 と 3 を選べばよいです)\n",
    "2.\n",
    "   - $n=2$\n",
    "   - $a=(9, 7)$\n",
    "   - $A=6$\n",
    "   - 答え: NO"
   ]
  },
  {
   "cell_type": "code",
   "execution_count": 6,
   "metadata": {},
   "outputs": [],
   "source": [
    "import numpy as np\n",
    "def partialsum(array, sum):\n",
    "    n = array.size\n",
    "    dp = np.zeros((n + 1, sum + 1)).astype(bool)\n",
    "    dp[0, 0] = True\n",
    "\n",
    "    for i in range(n):\n",
    "        for j in range(sum + 1):\n",
    "            dp[i+1, j] |= dp[i, j]\n",
    "            if j >= array[i]:\n",
    "                dp[i+1, j] |= dp[i, j-array[i]]\n",
    "\n",
    "    return dp[n, sum]"
   ]
  },
  {
   "cell_type": "code",
   "execution_count": 7,
   "metadata": {},
   "outputs": [
    {
     "data": {
      "text/plain": [
       "True"
      ]
     },
     "execution_count": 7,
     "metadata": {},
     "output_type": "execute_result"
    }
   ],
   "source": [
    "array = np.array([7, 5, 3])\n",
    "sum = 10\n",
    "partialsum(array, sum)"
   ]
  },
  {
   "cell_type": "code",
   "execution_count": 8,
   "metadata": {},
   "outputs": [
    {
     "data": {
      "text/plain": [
       "False"
      ]
     },
     "execution_count": 8,
     "metadata": {},
     "output_type": "execute_result"
    }
   ],
   "source": [
    "array = np.array([9, 7])\n",
    "sum = 6\n",
    "partialsum(array, sum)"
   ]
  },
  {
   "cell_type": "markdown",
   "metadata": {},
   "source": [
    "## 部分和数え上げ問題\n",
    "$n$個の正の整数$a[0], a[1], ..., a[n-1]$と正の整数$A$が与えられる。\n",
    "これらの整数から何個かの整数を選んで総和が$A$になるようにする方法が何通りあるかを求めよ。\n",
    "ただし、答えがとても大きくなる可能性があるので、1,000,000,009 で割った余りで出力せよ。\n",
    "\n",
    "【制約】\n",
    "- $1\\le n\\le 100$\n",
    "- $1\\le a[i]\\le 1000$\n",
    "- $1\\le A\\le 10000$\n",
    "\n",
    "【数値例】\n",
    "\n",
    "1. \n",
    "   - $n=5$\n",
    "   - $a=(7, 5, 3, 1, 8)$\n",
    "   - $A=12$\n",
    "   - 答え: 2 ((7と5), (3と1と8) の 2 通りがあります)\n",
    "2.\n",
    "   - $n=4$\n",
    "   - $a=(4, 1, 1, 1)$\n",
    "   - $A=5$\n",
    "   - 答え: 3 ((4, 1), (4, 1), (4, 1) の 3 通りがあります。同じ 1 でも index が違うものは異なる組合わせとみなします)"
   ]
  },
  {
   "cell_type": "code",
   "execution_count": 5,
   "metadata": {},
   "outputs": [],
   "source": [
    "import numpy as np\n",
    "def partialsum_count(array, sum):\n",
    "    MOD = 1000000009\n",
    "    n = array.size\n",
    "    dp = np.zeros((n + 1, sum + 1)).astype(int)\n",
    "    dp[0, 0] = 1\n",
    "\n",
    "    for i in range(n):\n",
    "        for j in range(sum + 1):\n",
    "            dp[i+1, j] += dp[i, j]\n",
    "            dp[i+1, j] %= MOD\n",
    "            if j >= array[i]:\n",
    "                dp[i+1, j] += dp[i, j-array[i]]\n",
    "                dp[i+1, j] %= MOD\n",
    "\n",
    "    return dp[n, sum]"
   ]
  },
  {
   "cell_type": "code",
   "execution_count": 6,
   "metadata": {},
   "outputs": [
    {
     "data": {
      "text/plain": [
       "2"
      ]
     },
     "execution_count": 6,
     "metadata": {},
     "output_type": "execute_result"
    }
   ],
   "source": [
    "array = np.array([7, 5, 3, 1, 8])\n",
    "sum = 12\n",
    "partialsum_count(array, sum)"
   ]
  },
  {
   "cell_type": "code",
   "execution_count": 7,
   "metadata": {},
   "outputs": [
    {
     "data": {
      "text/plain": [
       "3"
      ]
     },
     "execution_count": 7,
     "metadata": {},
     "output_type": "execute_result"
    }
   ],
   "source": [
    "array = np.array([4, 1, 1, 1])\n",
    "sum = 5\n",
    "partialsum_count(array, sum)"
   ]
  },
  {
   "cell_type": "markdown",
   "metadata": {},
   "source": [
    "## 最小個数部分和問題\n",
    "$n$個の正の整数$a[0], a[1], ..., a[n-1]$と正の整数$A$が与えられる。\n",
    "これらの整数から何個かの整数を選んで総和が$A$にする方法をすべて考えた時、選ぶ整数の個数の最小値を求めよ。\n",
    "$A$にすることができない場合は$-1$と出力せよ。\n",
    "\n",
    "【制約】\n",
    "- $1\\le n\\le 100$\n",
    "- $1\\le a[i]\\le 1000$\n",
    "- $1\\le A\\le 10000$\n",
    "\n",
    "【数値例】\n",
    "\n",
    "1. \n",
    "   - $n=5$\n",
    "   - $a=(7, 5, 3, 1, 8)$\n",
    "   - $A=12$\n",
    "   - 答え: 2 ((7, 5)と(3, 1, 8)とがありますが、(7, 5) の2個が最小です)\n",
    "2.\n",
    "   - $n=2$\n",
    "   - $a=(7, 5)$\n",
    "   - $A=6$\n",
    "   - 答え: -1"
   ]
  },
  {
   "cell_type": "code",
   "execution_count": 13,
   "metadata": {},
   "outputs": [],
   "source": [
    "import numpy as np\n",
    "def partialsum_min_n(array, sum):\n",
    "    big = 1000000\n",
    "    n = array.size\n",
    "    dp = np.ones((n + 1, sum + 1)).astype(int) * big\n",
    "    dp[0, 0] = 0\n",
    "\n",
    "    for i in range(n):\n",
    "        for j in range(sum + 1):\n",
    "            dp[i+1, j] = dp[i, j]\n",
    "            if j >= array[i]:\n",
    "                dp[i+1, j] = min(dp[i, j-array[i]] + 1, dp[i, j])\n",
    "\n",
    "    return dp[n, sum] if dp[n, sum] < big else -1"
   ]
  },
  {
   "cell_type": "code",
   "execution_count": 14,
   "metadata": {},
   "outputs": [
    {
     "data": {
      "text/plain": [
       "2"
      ]
     },
     "execution_count": 14,
     "metadata": {},
     "output_type": "execute_result"
    }
   ],
   "source": [
    "array = np.array([7, 5, 3, 1, 8])\n",
    "sum = 12\n",
    "partialsum_min_n(array, sum)"
   ]
  },
  {
   "cell_type": "code",
   "execution_count": 15,
   "metadata": {},
   "outputs": [
    {
     "data": {
      "text/plain": [
       "-1"
      ]
     },
     "execution_count": 15,
     "metadata": {},
     "output_type": "execute_result"
    }
   ],
   "source": [
    "array = np.array([7, 5])\n",
    "sum = 6\n",
    "partialsum_min_n(array, sum)"
   ]
  },
  {
   "cell_type": "markdown",
   "metadata": {},
   "source": [
    "## K個以内部分和問題\n",
    "$n$個の正の整数$a[0], a[1], ..., a[n-1]$と正の整数$A$が与えられる。\n",
    "これらの整数から$k$個以内の整数を選んで総和が$A$になるようにすることが可能か判定せよ。\n",
    "可能ならば \"YES\" と出力し、不可能ならば \"NO\" と出力せよ。\n",
    "\n",
    "【制約】\n",
    "- $1\\le n\\le 100$\n",
    "- $1\\le a[i]\\le 1000$\n",
    "- $1\\le A\\le 10000$\n",
    "\n",
    "【数値例】\n",
    "\n",
    "1. \n",
    "   - $n=3$\n",
    "   - $K=2$\n",
    "   - $a=(7, 5, 3)$\n",
    "   - $A=10$\n",
    "   - 答え: YES (7 と 3 を選べばよいです)\n",
    "2.\n",
    "   - $n=3$\n",
    "   - $K=1$\n",
    "   - $a=(7, 5, 3)$\n",
    "   - $A=10$\n",
    "   - 答え: NO"
   ]
  },
  {
   "cell_type": "code",
   "execution_count": 16,
   "metadata": {},
   "outputs": [],
   "source": [
    "import numpy as np\n",
    "def partialsum_le_k(array, sum, le_k):\n",
    "    big = 1000000\n",
    "    n = array.size\n",
    "    dp = np.ones((n + 1, sum + 1)).astype(int) * big\n",
    "    dp[0, 0] = 0\n",
    "\n",
    "    for i in range(n):\n",
    "        for j in range(sum + 1):\n",
    "            dp[i+1, j] = dp[i, j]\n",
    "            if j >= array[i]:\n",
    "                dp[i+1, j] = min(dp[i, j-array[i]] + 1, dp[i, j])\n",
    "\n",
    "    return dp[n, sum] <= le_k"
   ]
  },
  {
   "cell_type": "code",
   "execution_count": 17,
   "metadata": {},
   "outputs": [
    {
     "data": {
      "text/plain": [
       "True"
      ]
     },
     "execution_count": 17,
     "metadata": {},
     "output_type": "execute_result"
    }
   ],
   "source": [
    "array = np.array([7, 5, 3])\n",
    "sum = 10\n",
    "le_k = 2\n",
    "partialsum_le_k(array, sum, le_k)"
   ]
  },
  {
   "cell_type": "code",
   "execution_count": 18,
   "metadata": {},
   "outputs": [
    {
     "data": {
      "text/plain": [
       "False"
      ]
     },
     "execution_count": 18,
     "metadata": {},
     "output_type": "execute_result"
    }
   ],
   "source": [
    "array = np.array([7, 5, 3])\n",
    "sum = 10\n",
    "le_k = 1\n",
    "partialsum_le_k(array, sum, le_k)"
   ]
  },
  {
   "cell_type": "code",
   "execution_count": null,
   "metadata": {},
   "outputs": [],
   "source": []
  }
 ],
 "metadata": {
  "kernelspec": {
   "display_name": "Python 3",
   "language": "python",
   "name": "python3"
  },
  "language_info": {
   "codemirror_mode": {
    "name": "ipython",
    "version": 3
   },
   "file_extension": ".py",
   "mimetype": "text/x-python",
   "name": "python",
   "nbconvert_exporter": "python",
   "pygments_lexer": "ipython3",
   "version": "3.11.4"
  }
 },
 "nbformat": 4,
 "nbformat_minor": 2
}
