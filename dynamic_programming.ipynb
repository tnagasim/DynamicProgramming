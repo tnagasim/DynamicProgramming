{
 "cells": [
  {
   "cell_type": "code",
   "execution_count": 2,
   "metadata": {},
   "outputs": [],
   "source": [
    "import numpy as np"
   ]
  },
  {
   "cell_type": "code",
   "execution_count": 12,
   "metadata": {},
   "outputs": [],
   "source": [
    "def Frog1(footholds):\n",
    "    one_diffs = [abs(f0 - f1) for f0, f1 in zip(footholds, footholds[1:])]\n",
    "    two_diffs = [abs(f0 - f2) for f0, f2 in zip(footholds, footholds[2:])]\n",
    "    indexes = [[0]]\n",
    "    scores = np.zeros((1,))\n",
    "    indexes.append(indexes[-1] + [len(scores)])\n",
    "    scores = np.append(scores, one_diffs.pop(0))\n",
    "    for diff in zip(two_diffs, one_diffs):\n",
    "        score = np.array([scores[-2] + diff[-2], scores[-1] + diff[-1]])\n",
    "        i = np.argmin(score) - 2\n",
    "        indexes.append(indexes[i] + [len(scores)])\n",
    "        scores = np.append(scores, score[i])\n",
    "    return indexes[-1]"
   ]
  },
  {
   "cell_type": "code",
   "execution_count": 13,
   "metadata": {},
   "outputs": [
    {
     "data": {
      "text/plain": [
       "[0, 2, 3, 5]"
      ]
     },
     "execution_count": 13,
     "metadata": {},
     "output_type": "execute_result"
    }
   ],
   "source": [
    "footholds = [2, 9, 4, 5, 1, 6]\n",
    "Frog1(footholds)"
   ]
  },
  {
   "cell_type": "code",
   "execution_count": null,
   "metadata": {},
   "outputs": [],
   "source": []
  }
 ],
 "metadata": {
  "kernelspec": {
   "display_name": "Python 3",
   "language": "python",
   "name": "python3"
  },
  "language_info": {
   "codemirror_mode": {
    "name": "ipython",
    "version": 3
   },
   "file_extension": ".py",
   "mimetype": "text/x-python",
   "name": "python",
   "nbconvert_exporter": "python",
   "pygments_lexer": "ipython3",
   "version": "3.11.4"
  }
 },
 "nbformat": 4,
 "nbformat_minor": 2
}
